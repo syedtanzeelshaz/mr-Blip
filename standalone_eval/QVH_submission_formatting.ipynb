{
 "cells": [
  {
   "cell_type": "code",
   "execution_count": null,
   "metadata": {},
   "outputs": [],
   "source": [
    "import json\n",
    "import ast\n",
    "import re"
   ]
  },
  {
   "cell_type": "code",
   "execution_count": null,
   "metadata": {},
   "outputs": [],
   "source": [
    "def save_json(content, save_path):\n",
    "    with open(save_path, 'w') as f:\n",
    "        f.write(json.dumps(content))\n",
    "def load_jsonl(filename):\n",
    "    with open(filename, \"r\") as f:\n",
    "        return [json.loads(l.strip(\"\\n\")) for l in f.readlines()]\n",
    "def load_json(filename):\n",
    "    with open(filename, \"r\") as f:\n",
    "        return json.load(f)\n",
    "def save_jsonl(content, save_path):\n",
    "    with open(save_path, 'w') as f:\n",
    "        for l in content:\n",
    "            f.write(json.dumps(l) + \"\\n\")\n"
   ]
  },
  {
   "cell_type": "code",
   "execution_count": null,
   "metadata": {},
   "outputs": [],
   "source": [
    "def moment_str_to_list(m):\n",
    "        \"\"\"Convert a string of moments to a list of moments.\n",
    "        If predicted string is not a list, it means that the model has not yet learned to predict the right format.\n",
    "        In that case, we return [[-1, -1]] to represent an error.\n",
    "        This will then lead to an IoU of 0.\n",
    "        Args:\n",
    "            m (str): a string of moments, e.g. \"[[0, 1], [4, 7]]\"\n",
    "        Returns:\n",
    "            list: a list of moments, e.g. [[0, 1], [4, 7]]\n",
    "        \"\"\"\n",
    "        if m == \"[[-1, -1]]\":\n",
    "            return [[-1, -1]]\n",
    "\n",
    "        # check if the string has the right format of a nested list using regex\n",
    "        # the list should look like this: [[0, 1], [4, 7], ...]\n",
    "        # if not, return [[-1, -1]]\n",
    "        if not re.match(r\"\\[\\[.*\\]\\]\", m):\n",
    "            return [[-1, -1]]\n",
    "\n",
    "        try:\n",
    "            _m = ast.literal_eval(m)\n",
    "        except:\n",
    "            return [[-1, -1]]\n",
    "\n",
    "        # if _m is not a list, it means that the model has not predicted any relevant windows\n",
    "        # return error\n",
    "        if not isinstance(_m, list):\n",
    "            # raise ValueError()\n",
    "            return [[-1, -1]]\n",
    "\n",
    "        # if a sublist of _m has more than 2 elements, it means that the model has not learned to predict the right format\n",
    "        # substitute that sublist with [-1, -1]\n",
    "        for i in range(len(_m)):\n",
    "            if len(_m[i]) != 2:\n",
    "                # print(f\"Got a sublist with more or less than 2 elements!{_m[i]}\")\n",
    "                _m[i] = [-1, -1]\n",
    "\n",
    "        return _m"
   ]
  },
  {
   "cell_type": "code",
   "execution_count": null,
   "metadata": {},
   "outputs": [],
   "source": [
    "data_file = 'test_epochbest_new.json'\n",
    "meta_file = 'highlight_test_release.jsonl'\n",
    "\n",
    "data = load_json(data_file)\n",
    "meta_data = load_jsonl(meta_file)"
   ]
  },
  {
   "cell_type": "code",
   "execution_count": null,
   "metadata": {},
   "outputs": [],
   "source": [
    "data[0]"
   ]
  },
  {
   "cell_type": "code",
   "execution_count": null,
   "metadata": {},
   "outputs": [],
   "source": [
    "for d in data:\n",
    "    d['prediction'] = moment_str_to_list(d['prediction'])\n",
    "\n",
    "    # add a dummy confidence score\n",
    "    d['prediction'] = [m + [1.0] for m in d['prediction']]"
   ]
  },
  {
   "cell_type": "code",
   "execution_count": null,
   "metadata": {},
   "outputs": [],
   "source": [
    "data[2]"
   ]
  },
  {
   "cell_type": "code",
   "execution_count": null,
   "metadata": {},
   "outputs": [],
   "source": [
    "new_meta_data = {}\n",
    "for meta_d in meta_data:\n",
    "    new_meta_data[meta_d['qid']] = meta_d\n",
    "\n",
    "print(len(meta_data), len(new_meta_data))\n",
    "print(new_meta_data)"
   ]
  },
  {
   "cell_type": "markdown",
   "metadata": {},
   "source": [
    "Format:\n",
    "```json\n",
    "{\n",
    "  \"qid\": 2579,\n",
    "  \"query\": \"A girl and her mother cooked while talking with each other on facetime.\",\n",
    "  \"vid\": \"NUsG9BgSes0_210.0_360.0\",\n",
    "  \"pred_relevant_windows\": [\n",
    "    [0, 70, 0.9986],\n",
    "    [78, 146, 0.4138],\n",
    "    [0, 146, 0.0444],\n",
    "    ...\n",
    "  ],  \n",
    "  \"pred_saliency_scores\": [-0.2452, -0.3779, -0.4746, ...]\n",
    "}\n",
    "```\n"
   ]
  },
  {
   "cell_type": "code",
   "execution_count": null,
   "metadata": {},
   "outputs": [],
   "source": [
    "def get_submission(data, meta_data):\n",
    "    submissions = []\n",
    "    for d in data:\n",
    "        out = {}\n",
    "        qid = int(d['qid'].split('_')[1])\n",
    "        out[\"qid\"] = qid\n",
    "        out[\"query\"] = meta_data[qid][\"query\"]\n",
    "        out[\"vid\"] = meta_data[qid][\"vid\"]\n",
    "        out[\"pred_relevant_windows\"] = d[\"prediction\"]\n",
    "        out[\"pred_saliency_scores\"] = [1.0] * len(d[\"prediction\"])\n",
    "        submissions.append(out)\n",
    "    return submissions"
   ]
  },
  {
   "cell_type": "code",
   "execution_count": null,
   "metadata": {},
   "outputs": [],
   "source": [
    "test_sumission = get_submission(data, new_meta_data)\n",
    "test_sumission[2]"
   ]
  },
  {
   "cell_type": "code",
   "execution_count": null,
   "metadata": {},
   "outputs": [],
   "source": [
    "# Save submission_1\n",
    "save_jsonl(test_sumission, 'hl_test_submission.jsonl')"
   ]
  },
  {
   "cell_type": "code",
   "execution_count": null,
   "metadata": {},
   "outputs": [],
   "source": [
    "data_file = 'val_epoch14_new.json'\n",
    "meta_file = 'highlight_val_release.jsonl'\n",
    "\n",
    "data = load_json(data_file)\n",
    "meta_data = load_jsonl(meta_file)\n",
    "\n",
    "print(data[0])\n",
    "\n",
    "for d in data:\n",
    "    d['prediction'] = moment_str_to_list(d['prediction'])\n",
    "    d['prediction'] = [m + [1.0] for m in d['prediction']]\n",
    "\n",
    "print(data[0])\n",
    "\n",
    "new_meta_data = {}\n",
    "for meta_d in meta_data:\n",
    "    new_meta_data[meta_d['qid']] = meta_d\n",
    "\n",
    "print(len(meta_data), len(new_meta_data))\n",
    "print(new_meta_data)"
   ]
  },
  {
   "cell_type": "code",
   "execution_count": null,
   "metadata": {},
   "outputs": [],
   "source": [
    "val_sumission = get_submission(data, new_meta_data)\n",
    "val_sumission[2]"
   ]
  },
  {
   "cell_type": "code",
   "execution_count": null,
   "metadata": {},
   "outputs": [],
   "source": [
    "save_jsonl(val_sumission, 'hl_val_submission.jsonl')"
   ]
  },
  {
   "cell_type": "code",
   "execution_count": null,
   "metadata": {},
   "outputs": [],
   "source": []
  }
 ],
 "metadata": {
  "kernelspec": {
   "display_name": "TUDa",
   "language": "python",
   "name": "python3"
  },
  "language_info": {
   "codemirror_mode": {
    "name": "ipython",
    "version": 3
   },
   "file_extension": ".py",
   "mimetype": "text/x-python",
   "name": "python",
   "nbconvert_exporter": "python",
   "pygments_lexer": "ipython3",
   "version": "3.11.5"
  }
 },
 "nbformat": 4,
 "nbformat_minor": 2
}
